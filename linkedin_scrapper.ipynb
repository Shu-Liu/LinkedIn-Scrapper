{
 "cells": [
  {
   "cell_type": "code",
   "execution_count": 76,
   "metadata": {
    "scrolled": true
   },
   "outputs": [
    {
     "name": "stdout",
     "output_type": "stream",
     "text": [
      "Requirement already satisfied: bs4 in /Library/Frameworks/Python.framework/Versions/3.7/lib/python3.7/site-packages (0.0.1)\n",
      "Requirement already satisfied: beautifulsoup4 in /Library/Frameworks/Python.framework/Versions/3.7/lib/python3.7/site-packages (from bs4) (4.8.2)\n",
      "Requirement already satisfied: soupsieve>=1.2 in /Library/Frameworks/Python.framework/Versions/3.7/lib/python3.7/site-packages (from beautifulsoup4->bs4) (2.0)\n",
      "Requirement already satisfied: ipython in /Users/sfdatabro/Library/Python/3.7/lib/python/site-packages (7.11.1)\n",
      "Requirement already satisfied: appnope; sys_platform == \"darwin\" in /Users/sfdatabro/Library/Python/3.7/lib/python/site-packages (from ipython) (0.1.0)\n",
      "Requirement already satisfied: setuptools>=18.5 in /Library/Frameworks/Python.framework/Versions/3.7/lib/python3.7/site-packages (from ipython) (45.2.0)\n",
      "Requirement already satisfied: pickleshare in /Users/sfdatabro/Library/Python/3.7/lib/python/site-packages (from ipython) (0.7.5)\n",
      "Requirement already satisfied: decorator in /Users/sfdatabro/Library/Python/3.7/lib/python/site-packages (from ipython) (4.4.1)\n",
      "Requirement already satisfied: prompt-toolkit!=3.0.0,!=3.0.1,<3.1.0,>=2.0.0 in /Users/sfdatabro/Library/Python/3.7/lib/python/site-packages (from ipython) (3.0.2)\n",
      "Requirement already satisfied: traitlets>=4.2 in /Users/sfdatabro/Library/Python/3.7/lib/python/site-packages (from ipython) (4.3.3)\n",
      "Requirement already satisfied: backcall in /Users/sfdatabro/Library/Python/3.7/lib/python/site-packages (from ipython) (0.1.0)\n",
      "Requirement already satisfied: pexpect; sys_platform != \"win32\" in /Users/sfdatabro/Library/Python/3.7/lib/python/site-packages (from ipython) (4.8.0)\n",
      "Requirement already satisfied: jedi>=0.10 in /Users/sfdatabro/Library/Python/3.7/lib/python/site-packages (from ipython) (0.15.2)\n",
      "Requirement already satisfied: pygments in /Users/sfdatabro/Library/Python/3.7/lib/python/site-packages (from ipython) (2.5.2)\n",
      "Requirement already satisfied: wcwidth in /Users/sfdatabro/Library/Python/3.7/lib/python/site-packages (from prompt-toolkit!=3.0.0,!=3.0.1,<3.1.0,>=2.0.0->ipython) (0.1.8)\n",
      "Requirement already satisfied: ipython-genutils in /Users/sfdatabro/Library/Python/3.7/lib/python/site-packages (from traitlets>=4.2->ipython) (0.2.0)\n",
      "Requirement already satisfied: six in /Library/Frameworks/Python.framework/Versions/3.7/lib/python3.7/site-packages (from traitlets>=4.2->ipython) (1.13.0)\n",
      "Requirement already satisfied: ptyprocess>=0.5 in /Users/sfdatabro/Library/Python/3.7/lib/python/site-packages (from pexpect; sys_platform != \"win32\"->ipython) (0.6.0)\n",
      "Requirement already satisfied: parso>=0.5.2 in /Users/sfdatabro/Library/Python/3.7/lib/python/site-packages (from jedi>=0.10->ipython) (0.5.2)\n",
      "Requirement already satisfied: selenium in /Library/Frameworks/Python.framework/Versions/3.7/lib/python3.7/site-packages (3.141.0)\n",
      "Requirement already satisfied: urllib3 in /Library/Frameworks/Python.framework/Versions/3.7/lib/python3.7/site-packages (from selenium) (1.25.8)\n",
      "ERROR: Could not find a version that satisfies the requirement time (from versions: none)\n",
      "ERROR: No matching distribution found for time\n",
      "Requirement already satisfied: parsel in /Library/Frameworks/Python.framework/Versions/3.7/lib/python3.7/site-packages (1.5.2)\n",
      "Requirement already satisfied: lxml; python_version != \"3.4\" in /Library/Frameworks/Python.framework/Versions/3.7/lib/python3.7/site-packages (from parsel) (4.5.0)\n",
      "Requirement already satisfied: w3lib>=1.19.0 in /Library/Frameworks/Python.framework/Versions/3.7/lib/python3.7/site-packages (from parsel) (1.21.0)\n",
      "Requirement already satisfied: six>=1.5.2 in /Library/Frameworks/Python.framework/Versions/3.7/lib/python3.7/site-packages (from parsel) (1.13.0)\n",
      "Requirement already satisfied: cssselect>=0.9 in /Library/Frameworks/Python.framework/Versions/3.7/lib/python3.7/site-packages (from parsel) (1.1.0)\n",
      "ERROR: Could not find a version that satisfies the requirement csv (from versions: none)\n",
      "ERROR: No matching distribution found for csv\n",
      "Requirement already satisfied: webdriver_manager in /Library/Frameworks/Python.framework/Versions/3.7/lib/python3.7/site-packages (2.3.0)\n",
      "Requirement already satisfied: requests in /Library/Frameworks/Python.framework/Versions/3.7/lib/python3.7/site-packages (from webdriver_manager) (2.23.0)\n",
      "Requirement already satisfied: crayons in /Library/Frameworks/Python.framework/Versions/3.7/lib/python3.7/site-packages (from webdriver_manager) (0.3.0)\n",
      "Requirement already satisfied: configparser in /Library/Frameworks/Python.framework/Versions/3.7/lib/python3.7/site-packages (from webdriver_manager) (4.0.2)\n",
      "Requirement already satisfied: chardet<4,>=3.0.2 in /Library/Frameworks/Python.framework/Versions/3.7/lib/python3.7/site-packages (from requests->webdriver_manager) (3.0.4)\n",
      "Requirement already satisfied: idna<3,>=2.5 in /Library/Frameworks/Python.framework/Versions/3.7/lib/python3.7/site-packages (from requests->webdriver_manager) (2.9)\n",
      "Requirement already satisfied: certifi>=2017.4.17 in /Library/Frameworks/Python.framework/Versions/3.7/lib/python3.7/site-packages (from requests->webdriver_manager) (2019.11.28)\n",
      "Requirement already satisfied: urllib3!=1.25.0,!=1.25.1,<1.26,>=1.21.1 in /Library/Frameworks/Python.framework/Versions/3.7/lib/python3.7/site-packages (from requests->webdriver_manager) (1.25.8)\n",
      "Requirement already satisfied: colorama in /Library/Frameworks/Python.framework/Versions/3.7/lib/python3.7/site-packages (from crayons->webdriver_manager) (0.4.3)\n"
     ]
    }
   ],
   "source": [
    "!pip install bs4\n",
    "!pip3 install ipython \n",
    "!pip3 install selenium  \n",
    "!pip3 install time \n",
    "!pip3 install parsel\n",
    "!pip3 install csv\n",
    "!pip3 install webdriver_manager"
   ]
  },
  {
   "cell_type": "code",
   "execution_count": 77,
   "metadata": {},
   "outputs": [],
   "source": [
    "import requests, time, random\n",
    "from bs4 import BeautifulSoup\n",
    "from selenium import webdriver\n",
    "from selenium.webdriver.support.ui import WebDriverWait\n",
    "from selenium.webdriver.support import expected_conditions as EC\n",
    "from selenium.webdriver.common.by import By\n",
    "import pandas as pd\n",
    "from time import sleep\n",
    "import csv\n",
    "from parsel import Selector\n",
    "from selenium.webdriver.common.keys import Keys\n",
    "# import web driver\n",
    "from selenium import webdriver\n"
   ]
  },
  {
   "cell_type": "markdown",
   "metadata": {},
   "source": [
    "### Automatic LinkedIn Login"
   ]
  },
  {
   "cell_type": "code",
   "execution_count": 78,
   "metadata": {},
   "outputs": [
    {
     "name": "stdout",
     "output_type": "stream",
     "text": [
      "\n",
      "Looking for [chromedriver 80.0.3987.106 mac64] driver in cache \n",
      "File found in cache by path [/Users/sfdatabro/.wdm/drivers/chromedriver/80.0.3987.106/mac64/chromedriver]\n"
     ]
    }
   ],
   "source": [
    "from webdriver_manager.chrome import ChromeDriverManager\n",
    "#Open a driver\n",
    "driver = webdriver.Chrome(ChromeDriverManager().install())\n",
    "\n",
    "# driver.get method() will navigate to a page given by the URL address\n",
    "driver.get('https://www.linkedin.com')"
   ]
  },
  {
   "cell_type": "code",
   "execution_count": 79,
   "metadata": {},
   "outputs": [],
   "source": [
    "#Log in LinkedIn\n",
    "username = driver.find_element_by_name('session_key')\n",
    "#Enter your credential username\n",
    "username.send_keys('email_address')\n",
    "sleep(0.5)\n",
    "\n",
    "password = driver.find_element_by_name('session_password')\n",
    "#Enter your credential password\n",
    "password.send_keys('password')\n",
    "sleep(0.5)\n",
    "\n",
    "# locate submit button by_class_name\n",
    "sign_in_button = driver.find_element_by_class_name('sign-in-form__submit-btn')\n",
    "# .click() to mimic button click\n",
    "sign_in_button.click()\n",
    "sleep(2)"
   ]
  },
  {
   "cell_type": "code",
   "execution_count": null,
   "metadata": {},
   "outputs": [],
   "source": []
  },
  {
   "cell_type": "markdown",
   "metadata": {},
   "source": [
    "### Extract desired URLs from Google\n",
    "\n",
    "**Or enter desired URLs of profiles directly.**"
   ]
  },
  {
   "cell_type": "code",
   "execution_count": 80,
   "metadata": {},
   "outputs": [],
   "source": [
    "driver.get('https://www.google.com')"
   ]
  },
  {
   "cell_type": "code",
   "execution_count": 81,
   "metadata": {},
   "outputs": [],
   "source": [
    "#Enter key words\n",
    "search_query = driver.find_element_by_name('q')\n",
    "search_query.send_keys('site:linkedin.com/in AND \"python developer\" AND \"London\"')\n",
    "search_query.send_keys(Keys.RETURN)\n",
    "sleep(0.5)\n"
   ]
  },
  {
   "cell_type": "code",
   "execution_count": 82,
   "metadata": {},
   "outputs": [],
   "source": [
    "# Return several URLs as the result of the search on Google\n",
    "# But need to notice there are advertisements extracted together, so we need to tease them out.\n",
    "urls = driver.find_elements_by_xpath('//*[@class = \"r\"]/a[@href]')\n",
    "\n",
    "# Change it to list type\n",
    "urls = [url.get_attribute('href') for url in urls]\n",
    "sleep(0.5)\n",
    "\n",
    "# urls are now extracted."
   ]
  },
  {
   "cell_type": "markdown",
   "metadata": {},
   "source": [
    "### Set a csv file to store the data"
   ]
  },
  {
   "cell_type": "code",
   "execution_count": 83,
   "metadata": {},
   "outputs": [
    {
     "data": {
      "text/plain": [
       "40"
      ]
     },
     "execution_count": 83,
     "metadata": {},
     "output_type": "execute_result"
    }
   ],
   "source": [
    "writer = csv.writer(open('output.csv', 'w+', encoding='utf-8-sig', newline=''))\n",
    "writer.writerow(['Name', 'Profile', 'Role', 'Company', 'Location', 'URL'])"
   ]
  },
  {
   "cell_type": "markdown",
   "metadata": {},
   "source": [
    "### For loop to get all the desired data"
   ]
  },
  {
   "cell_type": "markdown",
   "metadata": {},
   "source": [
    "### Use BeautifulSoup to scrape data"
   ]
  },
  {
   "cell_type": "code",
   "execution_count": 84,
   "metadata": {},
   "outputs": [
    {
     "name": "stdout",
     "output_type": "stream",
     "text": [
      "Felix Tillyard Python Developer at Wandera Python Developer Wandera London, United Kingdom https://www.linkedin.com/in/felix-tillyard/?originalSubdomain=uk\n",
      "Paul Garner Freelance Python Developer at Depop Freelance Python Developer Depop London, Greater London, United Kingdom https://www.linkedin.com/in/pauljgarner/?originalSubdomain=uk\n",
      "Andrew Namakarskiy Python Developer – IG Python Developer IG London, United Kingdom https://www.linkedin.com/in/namakarskiy/?originalSubdomain=uk\n",
      "Danny Butler Backend Python Developer at Ostmodern Backend Python Developer Ostmodern London, United Kingdom https://www.linkedin.com/in/danny-butler-62834777/?originalSubdomain=uk\n",
      "Bartosz Dziendzik Python developer Backend Developer Festicket London, United Kingdom https://www.linkedin.com/in/bartoszdziendzik/?originalSubdomain=uk\n",
      "Rameshkanth S. Available for new role, Senior Python Developer,  SC Cleared Python Data Engineer Capgemini(Home Office) Tolworth, Greater London, United Kingdom https://www.linkedin.com/in/ksrameshkanth/?originalSubdomain=uk\n",
      "Sravan Jinna Python Developer at Equifax Director Ayan software solutions ltd. London, United Kingdom https://www.linkedin.com/in/sravan-jinna-79109550/?originalSubdomain=uk\n",
      "Vivian Allen Full Stack Developer at Methods Full Stack Developer Methods London, United Kingdom https://www.linkedin.com/in/vivian-allen-83b660147/?originalSubdomain=uk\n",
      "Rob Young Senior Python Developer at Arts Alliance Media Python Developer Turner & Townsend London, United Kingdom https://www.linkedin.com/in/robyoung101/?originalSubdomain=uk\n",
      "Teppo Pera Python Developer at Noble Python Developer Noble London, Greater London, United Kingdom https://www.linkedin.com/in/debith/?originalSubdomain=uk\n"
     ]
    }
   ],
   "source": [
    "for url in urls:\n",
    "    driver.get(url)\n",
    "    sleep(2)\n",
    "    src = driver.page_source\n",
    "    soup = BeautifulSoup(src, 'lxml')\n",
    "    name_div = soup.find('div', {'class':'flex-1 mr5'})\n",
    "    name_loc = name_div.find_all('ul')\n",
    "    name = name_loc[0].find('li').get_text().strip()\n",
    "    location = name_loc[1].find('li').get_text().strip()\n",
    "    profile = name_div.find('h2').get_text().strip()\n",
    "    exp_ = soup.find('section',{'id':'experience-section'})\n",
    "    exp = exp_.find('ul').find('div').find('a')\n",
    "    role = exp.find('h3').get_text().strip()\n",
    "    company = exp.find_all('p')[1].get_text().strip()\n",
    "    \n",
    "    url = driver.current_url\n",
    "    print(name, profile, role, company, location, url)\n",
    "    writer.writerow([name, profile, role, company, location, url])"
   ]
  },
  {
   "cell_type": "markdown",
   "metadata": {},
   "source": [
    "### Write in csv file"
   ]
  },
  {
   "cell_type": "code",
   "execution_count": null,
   "metadata": {},
   "outputs": [],
   "source": [
    "driver.quit()"
   ]
  },
  {
   "cell_type": "code",
   "execution_count": null,
   "metadata": {},
   "outputs": [],
   "source": []
  },
  {
   "cell_type": "code",
   "execution_count": null,
   "metadata": {},
   "outputs": [],
   "source": []
  },
  {
   "cell_type": "code",
   "execution_count": null,
   "metadata": {},
   "outputs": [],
   "source": []
  },
  {
   "cell_type": "code",
   "execution_count": null,
   "metadata": {},
   "outputs": [],
   "source": []
  },
  {
   "cell_type": "code",
   "execution_count": null,
   "metadata": {},
   "outputs": [],
   "source": []
  },
  {
   "cell_type": "code",
   "execution_count": null,
   "metadata": {},
   "outputs": [],
   "source": []
  },
  {
   "cell_type": "code",
   "execution_count": null,
   "metadata": {},
   "outputs": [],
   "source": []
  }
 ],
 "metadata": {
  "kernelspec": {
   "display_name": "Python 3",
   "language": "python",
   "name": "python3"
  },
  "language_info": {
   "codemirror_mode": {
    "name": "ipython",
    "version": 3
   },
   "file_extension": ".py",
   "mimetype": "text/x-python",
   "name": "python",
   "nbconvert_exporter": "python",
   "pygments_lexer": "ipython3",
   "version": "3.7.0"
  }
 },
 "nbformat": 4,
 "nbformat_minor": 4
}
